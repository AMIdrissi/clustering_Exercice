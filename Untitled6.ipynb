{
 "cells": [
  {
   "cell_type": "code",
   "execution_count": 1,
   "id": "0c1980d0",
   "metadata": {},
   "outputs": [],
   "source": [
    "import numpy as np\n",
    "import pandas as pd\n",
    "import matplotlib.pyplot as plt # a specialized 2d plotting library to visualise Numpy computations\n",
    "import statsmodels.api as sm\n",
    "    #these where imported after we set up the regression line\n",
    "import seaborn as sns # a similar package to matplotlib but it's more advanced at it\n",
    "sns.set() # basically it's like the relationship between css and html XD\n",
    "sns.set_theme(style=\"whitegrid\")"
   ]
  },
  {
   "cell_type": "code",
   "execution_count": 68,
   "id": "1c7920c6",
   "metadata": {},
   "outputs": [],
   "source": [
    "data = pd.read_csv('OnlineRetail.csv', nrows=5000)"
   ]
  },
  {
   "cell_type": "code",
   "execution_count": 69,
   "id": "ffcbed59",
   "metadata": {},
   "outputs": [
    {
     "data": {
      "text/html": [
       "<div>\n",
       "<style scoped>\n",
       "    .dataframe tbody tr th:only-of-type {\n",
       "        vertical-align: middle;\n",
       "    }\n",
       "\n",
       "    .dataframe tbody tr th {\n",
       "        vertical-align: top;\n",
       "    }\n",
       "\n",
       "    .dataframe thead th {\n",
       "        text-align: right;\n",
       "    }\n",
       "</style>\n",
       "<table border=\"1\" class=\"dataframe\">\n",
       "  <thead>\n",
       "    <tr style=\"text-align: right;\">\n",
       "      <th></th>\n",
       "      <th>Quantity</th>\n",
       "      <th>UnitPrice</th>\n",
       "      <th>CustomerID</th>\n",
       "    </tr>\n",
       "  </thead>\n",
       "  <tbody>\n",
       "    <tr>\n",
       "      <th>count</th>\n",
       "      <td>5000.000000</td>\n",
       "      <td>5000.000000</td>\n",
       "      <td>3795.000000</td>\n",
       "    </tr>\n",
       "    <tr>\n",
       "      <th>mean</th>\n",
       "      <td>9.185800</td>\n",
       "      <td>3.792314</td>\n",
       "      <td>15906.281950</td>\n",
       "    </tr>\n",
       "    <tr>\n",
       "      <th>std</th>\n",
       "      <td>144.940788</td>\n",
       "      <td>13.211720</td>\n",
       "      <td>1732.068892</td>\n",
       "    </tr>\n",
       "    <tr>\n",
       "      <th>min</th>\n",
       "      <td>-9360.000000</td>\n",
       "      <td>0.000000</td>\n",
       "      <td>12431.000000</td>\n",
       "    </tr>\n",
       "    <tr>\n",
       "      <th>25%</th>\n",
       "      <td>1.000000</td>\n",
       "      <td>1.250000</td>\n",
       "      <td>14606.000000</td>\n",
       "    </tr>\n",
       "    <tr>\n",
       "      <th>50%</th>\n",
       "      <td>3.000000</td>\n",
       "      <td>2.510000</td>\n",
       "      <td>15862.000000</td>\n",
       "    </tr>\n",
       "    <tr>\n",
       "      <th>75%</th>\n",
       "      <td>10.000000</td>\n",
       "      <td>4.210000</td>\n",
       "      <td>17841.000000</td>\n",
       "    </tr>\n",
       "    <tr>\n",
       "      <th>max</th>\n",
       "      <td>2880.000000</td>\n",
       "      <td>607.490000</td>\n",
       "      <td>18239.000000</td>\n",
       "    </tr>\n",
       "  </tbody>\n",
       "</table>\n",
       "</div>"
      ],
      "text/plain": [
       "          Quantity    UnitPrice    CustomerID\n",
       "count  5000.000000  5000.000000   3795.000000\n",
       "mean      9.185800     3.792314  15906.281950\n",
       "std     144.940788    13.211720   1732.068892\n",
       "min   -9360.000000     0.000000  12431.000000\n",
       "25%       1.000000     1.250000  14606.000000\n",
       "50%       3.000000     2.510000  15862.000000\n",
       "75%      10.000000     4.210000  17841.000000\n",
       "max    2880.000000   607.490000  18239.000000"
      ]
     },
     "execution_count": 69,
     "metadata": {},
     "output_type": "execute_result"
    }
   ],
   "source": [
    "\n",
    "data1 = data[['Quantity' , 'UnitPrice','CustomerID' , 'InvoiceDate' ]].copy()\n",
    "data.describe()"
   ]
  },
  {
   "cell_type": "code",
   "execution_count": 70,
   "id": "499c5180",
   "metadata": {},
   "outputs": [],
   "source": [
    "data1['Quantity'] = data['Quantity'][data['Quantity'] >0]\n",
    "data1['UnitPrice'] = data['UnitPrice'][data['UnitPrice'] !=0 ]"
   ]
  },
  {
   "cell_type": "code",
   "execution_count": 71,
   "id": "e193615c",
   "metadata": {},
   "outputs": [
    {
     "data": {
      "text/html": [
       "<div>\n",
       "<style scoped>\n",
       "    .dataframe tbody tr th:only-of-type {\n",
       "        vertical-align: middle;\n",
       "    }\n",
       "\n",
       "    .dataframe tbody tr th {\n",
       "        vertical-align: top;\n",
       "    }\n",
       "\n",
       "    .dataframe thead th {\n",
       "        text-align: right;\n",
       "    }\n",
       "</style>\n",
       "<table border=\"1\" class=\"dataframe\">\n",
       "  <thead>\n",
       "    <tr style=\"text-align: right;\">\n",
       "      <th></th>\n",
       "      <th>Quantity</th>\n",
       "      <th>UnitPrice</th>\n",
       "      <th>CustomerID</th>\n",
       "    </tr>\n",
       "  </thead>\n",
       "  <tbody>\n",
       "    <tr>\n",
       "      <th>count</th>\n",
       "      <td>4928.000000</td>\n",
       "      <td>4988.000000</td>\n",
       "      <td>3795.000000</td>\n",
       "    </tr>\n",
       "    <tr>\n",
       "      <th>mean</th>\n",
       "      <td>11.454343</td>\n",
       "      <td>3.801437</td>\n",
       "      <td>15906.281950</td>\n",
       "    </tr>\n",
       "    <tr>\n",
       "      <th>std</th>\n",
       "      <td>58.812181</td>\n",
       "      <td>13.226295</td>\n",
       "      <td>1732.068892</td>\n",
       "    </tr>\n",
       "    <tr>\n",
       "      <th>min</th>\n",
       "      <td>1.000000</td>\n",
       "      <td>0.030000</td>\n",
       "      <td>12431.000000</td>\n",
       "    </tr>\n",
       "    <tr>\n",
       "      <th>25%</th>\n",
       "      <td>1.000000</td>\n",
       "      <td>1.250000</td>\n",
       "      <td>14606.000000</td>\n",
       "    </tr>\n",
       "    <tr>\n",
       "      <th>50%</th>\n",
       "      <td>3.000000</td>\n",
       "      <td>2.510000</td>\n",
       "      <td>15862.000000</td>\n",
       "    </tr>\n",
       "    <tr>\n",
       "      <th>75%</th>\n",
       "      <td>12.000000</td>\n",
       "      <td>4.210000</td>\n",
       "      <td>17841.000000</td>\n",
       "    </tr>\n",
       "    <tr>\n",
       "      <th>max</th>\n",
       "      <td>2880.000000</td>\n",
       "      <td>607.490000</td>\n",
       "      <td>18239.000000</td>\n",
       "    </tr>\n",
       "  </tbody>\n",
       "</table>\n",
       "</div>"
      ],
      "text/plain": [
       "          Quantity    UnitPrice    CustomerID\n",
       "count  4928.000000  4988.000000   3795.000000\n",
       "mean     11.454343     3.801437  15906.281950\n",
       "std      58.812181    13.226295   1732.068892\n",
       "min       1.000000     0.030000  12431.000000\n",
       "25%       1.000000     1.250000  14606.000000\n",
       "50%       3.000000     2.510000  15862.000000\n",
       "75%      12.000000     4.210000  17841.000000\n",
       "max    2880.000000   607.490000  18239.000000"
      ]
     },
     "execution_count": 71,
     "metadata": {},
     "output_type": "execute_result"
    }
   ],
   "source": [
    "data1.describe()"
   ]
  },
  {
   "cell_type": "code",
   "execution_count": 72,
   "id": "691cc4b0",
   "metadata": {},
   "outputs": [
    {
     "data": {
      "text/plain": [
       "CustomerID\n",
       "12431.0    14\n",
       "12433.0    73\n",
       "12471.0     0\n",
       "12472.0     0\n",
       "12583.0    20\n",
       "           ..\n",
       "18085.0     9\n",
       "18144.0     3\n",
       "18168.0    10\n",
       "18229.0     7\n",
       "18239.0    29\n",
       "Name: Quantity, Length: 197, dtype: int64"
      ]
     },
     "execution_count": 72,
     "metadata": {},
     "output_type": "execute_result"
    }
   ],
   "source": [
    "data1.groupby(['CustomerID'])['Quantity'].count()"
   ]
  },
  {
   "cell_type": "code",
   "execution_count": 73,
   "id": "2350ea0e",
   "metadata": {},
   "outputs": [
    {
     "data": {
      "text/plain": [
       "CustomerID\n",
       "12431.0     73.90\n",
       "12433.0    102.67\n",
       "12471.0      8.50\n",
       "12472.0     49.45\n",
       "12583.0     55.29\n",
       "            ...  \n",
       "18085.0     34.60\n",
       "18144.0      7.89\n",
       "18168.0     70.25\n",
       "18229.0     48.65\n",
       "18239.0     96.90\n",
       "Name: UnitPrice, Length: 197, dtype: float64"
      ]
     },
     "execution_count": 73,
     "metadata": {},
     "output_type": "execute_result"
    }
   ],
   "source": [
    "data1.groupby(['CustomerID'])['UnitPrice'].sum()"
   ]
  },
  {
   "cell_type": "code",
   "execution_count": 74,
   "id": "a4e2a831",
   "metadata": {},
   "outputs": [
    {
     "data": {
      "text/plain": [
       "0       01-12-2010 08:26\n",
       "1       01-12-2010 08:26\n",
       "2       01-12-2010 08:26\n",
       "3       01-12-2010 08:26\n",
       "4       01-12-2010 08:26\n",
       "              ...       \n",
       "4995    02-12-2010 18:08\n",
       "4996    02-12-2010 18:08\n",
       "4997    02-12-2010 18:08\n",
       "4998    02-12-2010 18:08\n",
       "4999    02-12-2010 18:08\n",
       "Name: InvoiceDate, Length: 5000, dtype: object"
      ]
     },
     "execution_count": 74,
     "metadata": {},
     "output_type": "execute_result"
    }
   ],
   "source": [
    "data1['InvoiceDate'].astype('str')"
   ]
  },
  {
   "cell_type": "code",
   "execution_count": null,
   "id": "f28742de",
   "metadata": {},
   "outputs": [],
   "source": [
    "from datetime import datetime\n",
    "format_2 = \"%d-%m-%Y %H:%M\"\n",
    "i=0\n",
    "for item in (data1['InvoiceDate']):\n",
    "    data1['InvoiceDate'][i] = datetime.strptime(item, format_2)\n",
    "    i = i+1"
   ]
  },
  {
   "cell_type": "code",
   "execution_count": null,
   "id": "c96a03b4",
   "metadata": {},
   "outputs": [],
   "source": []
  },
  {
   "cell_type": "code",
   "execution_count": 79,
   "id": "bc7059c7",
   "metadata": {},
   "outputs": [
    {
     "data": {
      "text/plain": [
       "CustomerID\n",
       "12431.0    01-12-2010 10:03\n",
       "12433.0    01-12-2010 13:24\n",
       "12471.0    02-12-2010 10:37\n",
       "12472.0    01-12-2010 14:33\n",
       "12583.0    01-12-2010 08:45\n",
       "                 ...       \n",
       "18085.0    01-12-2010 12:08\n",
       "18144.0    01-12-2010 13:45\n",
       "18168.0    02-12-2010 17:14\n",
       "18229.0    01-12-2010 16:25\n",
       "18239.0    02-12-2010 17:48\n",
       "Name: InvoiceDate, Length: 197, dtype: object"
      ]
     },
     "execution_count": 79,
     "metadata": {},
     "output_type": "execute_result"
    }
   ],
   "source": [
    "data1.groupby(['CustomerID'])['InvoiceDate'].min()"
   ]
  },
  {
   "cell_type": "code",
   "execution_count": 87,
   "id": "daeee8d4",
   "metadata": {},
   "outputs": [
    {
     "name": "stdout",
     "output_type": "stream",
     "text": [
      "2010-12-01 09:37:00\n",
      "393093840.0\n"
     ]
    }
   ],
   "source": [
    "import time\n",
    "\n",
    "current_time = time.strftime(\"%d-%m-%Y %H:%M\")\n",
    "current_timeDate = datetime.strptime(current_time, \"%d-%m-%Y %H:%M\")\n",
    "timeDate = datetime.strptime(data1['InvoiceDate'][102], \"%d-%m-%Y %H:%M\")\n",
    "print(timeDate)\n",
    "\n",
    "print(abs((timeDate-current_timeDate).total_seconds()))"
   ]
  },
  {
   "cell_type": "code",
   "execution_count": null,
   "id": "f51bce94",
   "metadata": {},
   "outputs": [],
   "source": []
  },
  {
   "cell_type": "code",
   "execution_count": null,
   "id": "0f5aba46",
   "metadata": {},
   "outputs": [],
   "source": []
  }
 ],
 "metadata": {
  "kernelspec": {
   "display_name": "Python 3 (ipykernel)",
   "language": "python",
   "name": "python3"
  },
  "language_info": {
   "codemirror_mode": {
    "name": "ipython",
    "version": 3
   },
   "file_extension": ".py",
   "mimetype": "text/x-python",
   "name": "python",
   "nbconvert_exporter": "python",
   "pygments_lexer": "ipython3",
   "version": "3.9.13"
  }
 },
 "nbformat": 4,
 "nbformat_minor": 5
}
